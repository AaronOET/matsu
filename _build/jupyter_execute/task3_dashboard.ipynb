{
 "cells": [
  {
   "cell_type": "markdown",
   "id": "4eda1685",
   "metadata": {},
   "source": [
    "# 資訊整合平台建置\n",
    "## 1. 平台架構規劃\n",
    "   - 建置整合氣象、影像及模擬數據的資料庫，實現多來源數據的統一管理。\n",
    "   - 設計直觀的使用者介面，支持即時數據展示與歷史數據檢索。\n",
    "\n",
    "## 2. 資料展示功能\n",
    "\n",
    ":::{figure} ./videos/20240806_A1.mp4\n",
    ":width: 500px\n",
    ":::\n",
    "\n",
    ":::{figure} ./videos/20240806_B2.mp4\n",
    ":width: 500px\n",
    ":::"
   ]
  }
 ],
 "metadata": {
  "jupytext": {
   "formats": "md:myst",
   "text_representation": {
    "extension": ".md",
    "format_name": "myst",
    "format_version": 0.13,
    "jupytext_version": "1.11.5"
   }
  },
  "kernelspec": {
   "display_name": "Python 3",
   "language": "python",
   "name": "python3"
  },
  "language_info": {
   "codemirror_mode": {
    "name": "ipython",
    "version": 3
   },
   "file_extension": ".py",
   "mimetype": "text/x-python",
   "name": "python",
   "nbconvert_exporter": "python",
   "pygments_lexer": "ipython3",
   "version": "3.12.7"
  },
  "source_map": [
   13
  ]
 },
 "nbformat": 4,
 "nbformat_minor": 5
}